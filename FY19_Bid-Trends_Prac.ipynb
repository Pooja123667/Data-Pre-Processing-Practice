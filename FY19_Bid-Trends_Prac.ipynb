{
 "cells": [
  {
   "cell_type": "markdown",
   "metadata": {},
   "source": [
    "# FY19 Bid trends - Assignment 1"
   ]
  },
  {
   "cell_type": "markdown",
   "metadata": {},
   "source": [
    "Data and Setup"
   ]
  },
  {
   "cell_type": "code",
   "execution_count": 75,
   "metadata": {},
   "outputs": [],
   "source": [
    "import numpy as np\n",
    "import pandas as pd"
   ]
  },
  {
   "cell_type": "markdown",
   "metadata": {},
   "source": [
    "Importing visualzation library"
   ]
  },
  {
   "cell_type": "code",
   "execution_count": 76,
   "metadata": {},
   "outputs": [],
   "source": [
    "import matplotlib.pyplot as plt\n",
    "import seaborn as sns\n",
    "sns.set_style('darkgrid')\n",
    "%matplotlib inline"
   ]
  },
  {
   "cell_type": "markdown",
   "metadata": {},
   "source": [
    "Reading the csv file as a dataframe"
   ]
  },
  {
   "cell_type": "code",
   "execution_count": 77,
   "metadata": {},
   "outputs": [],
   "source": [
    "df = pd.read_csv('FY19_BID_Trends_Report_Data.csv')"
   ]
  },
  {
   "cell_type": "markdown",
   "metadata": {},
   "source": [
    "Checking information of the dataframe using info() function"
   ]
  },
  {
   "cell_type": "code",
   "execution_count": 78,
   "metadata": {
    "scrolled": true
   },
   "outputs": [
    {
     "name": "stdout",
     "output_type": "stream",
     "text": [
      "<class 'pandas.core.frame.DataFrame'>\n",
      "RangeIndex: 75 entries, 0 to 74\n",
      "Data columns (total 47 columns):\n",
      "company                                                              75 non-null object\n",
      "Floor Size (square feet)                                             75 non-null int64\n",
      "Full-time staff                                                      75 non-null int64\n",
      "Sanitation staff employed                                            75 non-null float64\n",
      "Safety Inspector                                                     75 non-null int64\n",
      "Part-time staff                                                      75 non-null int64\n",
      "Current clients                                                      75 non-null object\n",
      "Bid provides supplemental sanitation services                        75 non-null object\n",
      "Types of duties assigned to sanitation workers                       73 non-null object\n",
      "Days per week of sanitation services                                 72 non-null float64\n",
      "Hours logged by sanitation workers                                   72 non-null float64\n",
      "Incidents of graffiti removed                                        72 non-null object\n",
      "Trash bags collected                                                 72 non-null float64\n",
      "Trash and recycling receptacles serviced                             72 non-null float64\n",
      "Bid provides supplemental public safety services                     75 non-null object\n",
      "Duties assigned to public safety personnel                           37 non-null object\n",
      "Hours logged by public safety officers                               38 non-null float64\n",
      "Interactions with public safety officers                             38 non-null float64\n",
      "Bid provides supplemental streetscape and beautification services    75 non-null object\n",
      "Planters and hanging baskets maintained                              64 non-null float64\n",
      "Tree pits maintained                                                 64 non-null float64\n",
      "Banners maintained                                                   64 non-null float64\n",
      "Public art installations sponsored                                   64 non-null float64\n",
      "Street furniture elements maintained                                 64 non-null object\n",
      "Wayfinding elements maintained                                       64 non-null object\n",
      "Lighting elements maintained                                         63 non-null object\n",
      "Other infrastructure elements maintained                             64 non-null object\n",
      "Public spaces maintained                                             64 non-null float64\n",
      "Bid has holiday lighting program                                     75 non-null object\n",
      "Communication channels used                                          74 non-null object\n",
      "Social media followers                                               75 non-null int64\n",
      "Marketing materials distributed                                      75 non-null int64\n",
      "Public events coordinated                                            75 non-null int64\n",
      "Estimated attendees to public events coordinated                     75 non-null int64\n",
      "Special event charges                                                75 non-null object\n",
      "Miscellaneous charges                                                75 non-null object\n",
      "Sanitation expenses                                                  73 non-null float64\n",
      "Public safety expenses                                               37 non-null float64\n",
      "Marketing, holiday lighting, and special event expenses              75 non-null object\n",
      "Streetscape & beautification expenses                                58 non-null float64\n",
      "Salaries                                                             71 non-null float64\n",
      "Outside contractor expenses                                          67 non-null float64\n",
      "Insurance costs                                                      72 non-null float64\n",
      "Rent and utilities                                                   67 non-null float64\n",
      "Supplies and equipment costs                                         66 non-null float64\n",
      "Other G&A expenses                                                   69 non-null float64\n",
      "Total Quotation                                                      75 non-null int64\n",
      "dtypes: float64(21), int64(9), object(17)\n",
      "memory usage: 27.6+ KB\n"
     ]
    }
   ],
   "source": [
    "df.info()"
   ]
  },
  {
   "cell_type": "markdown",
   "metadata": {},
   "source": [
    "To show all columns, we use None"
   ]
  },
  {
   "cell_type": "code",
   "execution_count": 79,
   "metadata": {},
   "outputs": [],
   "source": [
    "pd.set_option('display.max_columns', None)"
   ]
  },
  {
   "cell_type": "markdown",
   "metadata": {},
   "source": [
    "Checking the head of dataframe"
   ]
  },
  {
   "cell_type": "code",
   "execution_count": 80,
   "metadata": {},
   "outputs": [
    {
     "data": {
      "text/html": [
       "<div>\n",
       "<style scoped>\n",
       "    .dataframe tbody tr th:only-of-type {\n",
       "        vertical-align: middle;\n",
       "    }\n",
       "\n",
       "    .dataframe tbody tr th {\n",
       "        vertical-align: top;\n",
       "    }\n",
       "\n",
       "    .dataframe thead th {\n",
       "        text-align: right;\n",
       "    }\n",
       "</style>\n",
       "<table border=\"1\" class=\"dataframe\">\n",
       "  <thead>\n",
       "    <tr style=\"text-align: right;\">\n",
       "      <th></th>\n",
       "      <th>company</th>\n",
       "      <th>Floor Size (square feet)</th>\n",
       "      <th>Full-time staff</th>\n",
       "      <th>Sanitation staff employed</th>\n",
       "      <th>Safety Inspector</th>\n",
       "      <th>Part-time staff</th>\n",
       "      <th>Current clients</th>\n",
       "      <th>Bid provides supplemental sanitation services</th>\n",
       "      <th>Types of duties assigned to sanitation workers</th>\n",
       "      <th>Days per week of sanitation services</th>\n",
       "      <th>Hours logged by sanitation workers</th>\n",
       "      <th>Incidents of graffiti removed</th>\n",
       "      <th>Trash bags collected</th>\n",
       "      <th>Trash and recycling receptacles serviced</th>\n",
       "      <th>Bid provides supplemental public safety services</th>\n",
       "      <th>Duties assigned to public safety personnel</th>\n",
       "      <th>Hours logged by public safety officers</th>\n",
       "      <th>Interactions with public safety officers</th>\n",
       "      <th>Bid provides supplemental streetscape and beautification services</th>\n",
       "      <th>Planters and hanging baskets maintained</th>\n",
       "      <th>Tree pits maintained</th>\n",
       "      <th>Banners maintained</th>\n",
       "      <th>Public art installations sponsored</th>\n",
       "      <th>Street furniture elements maintained</th>\n",
       "      <th>Wayfinding elements maintained</th>\n",
       "      <th>Lighting elements maintained</th>\n",
       "      <th>Other infrastructure elements maintained</th>\n",
       "      <th>Public spaces maintained</th>\n",
       "      <th>Bid has holiday lighting program</th>\n",
       "      <th>Communication channels used</th>\n",
       "      <th>Social media followers</th>\n",
       "      <th>Marketing materials distributed</th>\n",
       "      <th>Public events coordinated</th>\n",
       "      <th>Estimated attendees to public events coordinated</th>\n",
       "      <th>Special event charges</th>\n",
       "      <th>Miscellaneous charges</th>\n",
       "      <th>Sanitation expenses</th>\n",
       "      <th>Public safety expenses</th>\n",
       "      <th>Marketing, holiday lighting, and special event expenses</th>\n",
       "      <th>Streetscape &amp; beautification expenses</th>\n",
       "      <th>Salaries</th>\n",
       "      <th>Outside contractor expenses</th>\n",
       "      <th>Insurance costs</th>\n",
       "      <th>Rent and utilities</th>\n",
       "      <th>Supplies and equipment costs</th>\n",
       "      <th>Other G&amp;A expenses</th>\n",
       "      <th>Total Quotation</th>\n",
       "    </tr>\n",
       "  </thead>\n",
       "  <tbody>\n",
       "    <tr>\n",
       "      <th>0</th>\n",
       "      <td>Kreiger and Sons</td>\n",
       "      <td>10270</td>\n",
       "      <td>3</td>\n",
       "      <td>6.0</td>\n",
       "      <td>4</td>\n",
       "      <td>7</td>\n",
       "      <td>220</td>\n",
       "      <td>Yes</td>\n",
       "      <td>Street Sweeping and Bagging; Snow and Ice Remo...</td>\n",
       "      <td>6.0</td>\n",
       "      <td>12699.0</td>\n",
       "      <td>15,085</td>\n",
       "      <td>73500.0</td>\n",
       "      <td>60.0</td>\n",
       "      <td>Yes</td>\n",
       "      <td>Street patrol; Coordination with NYPD</td>\n",
       "      <td>9875.0</td>\n",
       "      <td>1438.0</td>\n",
       "      <td>Yes</td>\n",
       "      <td>0.0</td>\n",
       "      <td>27.0</td>\n",
       "      <td>64.0</td>\n",
       "      <td>0.0</td>\n",
       "      <td>155</td>\n",
       "      <td>0</td>\n",
       "      <td>64</td>\n",
       "      <td>0</td>\n",
       "      <td>0.0</td>\n",
       "      <td>Yes</td>\n",
       "      <td>Print advertising (i.e. local newspaper); Digi...</td>\n",
       "      <td>11646</td>\n",
       "      <td>31300</td>\n",
       "      <td>2</td>\n",
       "      <td>121280</td>\n",
       "      <td>$32,700</td>\n",
       "      <td>$-</td>\n",
       "      <td>305846.0</td>\n",
       "      <td>212483.0</td>\n",
       "      <td>$130,351</td>\n",
       "      <td>NaN</td>\n",
       "      <td>303350.0</td>\n",
       "      <td>22813.0</td>\n",
       "      <td>27852.0</td>\n",
       "      <td>134002.0</td>\n",
       "      <td>NaN</td>\n",
       "      <td>58140.0</td>\n",
       "      <td>1064486</td>\n",
       "    </tr>\n",
       "    <tr>\n",
       "      <th>1</th>\n",
       "      <td>Ziemann and Sons</td>\n",
       "      <td>5220</td>\n",
       "      <td>1</td>\n",
       "      <td>2.0</td>\n",
       "      <td>4</td>\n",
       "      <td>2</td>\n",
       "      <td>145</td>\n",
       "      <td>Yes</td>\n",
       "      <td>Street Sweeping and Bagging; Snow and Ice Remo...</td>\n",
       "      <td>7.0</td>\n",
       "      <td>4488.0</td>\n",
       "      <td>915</td>\n",
       "      <td>42000.0</td>\n",
       "      <td>48.0</td>\n",
       "      <td>No</td>\n",
       "      <td>NaN</td>\n",
       "      <td>NaN</td>\n",
       "      <td>NaN</td>\n",
       "      <td>Yes</td>\n",
       "      <td>0.0</td>\n",
       "      <td>20.0</td>\n",
       "      <td>12.0</td>\n",
       "      <td>16.0</td>\n",
       "      <td>15</td>\n",
       "      <td>6</td>\n",
       "      <td>0</td>\n",
       "      <td>20</td>\n",
       "      <td>2.0</td>\n",
       "      <td>Yes</td>\n",
       "      <td>Direct mailings; Flyers; Email bulletins; Soci...</td>\n",
       "      <td>0</td>\n",
       "      <td>6500</td>\n",
       "      <td>16</td>\n",
       "      <td>61000</td>\n",
       "      <td>$35,000</td>\n",
       "      <td>$-</td>\n",
       "      <td>119258.0</td>\n",
       "      <td>NaN</td>\n",
       "      <td>$29,875</td>\n",
       "      <td>11383.0</td>\n",
       "      <td>137000.0</td>\n",
       "      <td>6000.0</td>\n",
       "      <td>8071.0</td>\n",
       "      <td>8500.0</td>\n",
       "      <td>5000.0</td>\n",
       "      <td>5000.0</td>\n",
       "      <td>300212</td>\n",
       "    </tr>\n",
       "    <tr>\n",
       "      <th>2</th>\n",
       "      <td>Runolfsdottir, Hauck and Little</td>\n",
       "      <td>1740</td>\n",
       "      <td>1</td>\n",
       "      <td>3.0</td>\n",
       "      <td>0</td>\n",
       "      <td>0</td>\n",
       "      <td>168</td>\n",
       "      <td>Yes</td>\n",
       "      <td>Street Sweeping and Bagging; Power Washing; Sn...</td>\n",
       "      <td>7.0</td>\n",
       "      <td>3240.0</td>\n",
       "      <td>6</td>\n",
       "      <td>1120.0</td>\n",
       "      <td>29.0</td>\n",
       "      <td>Yes</td>\n",
       "      <td>Street patrol</td>\n",
       "      <td>80.0</td>\n",
       "      <td>0.0</td>\n",
       "      <td>Yes</td>\n",
       "      <td>0.0</td>\n",
       "      <td>20.0</td>\n",
       "      <td>0.0</td>\n",
       "      <td>4.0</td>\n",
       "      <td>0</td>\n",
       "      <td>2</td>\n",
       "      <td>29</td>\n",
       "      <td>0</td>\n",
       "      <td>0.0</td>\n",
       "      <td>Yes</td>\n",
       "      <td>Print advertising (i.e. local newspaper); Dire...</td>\n",
       "      <td>0</td>\n",
       "      <td>35100</td>\n",
       "      <td>38</td>\n",
       "      <td>15500</td>\n",
       "      <td>$-</td>\n",
       "      <td>$2,400</td>\n",
       "      <td>68630.0</td>\n",
       "      <td>NaN</td>\n",
       "      <td>$39,151</td>\n",
       "      <td>12905.0</td>\n",
       "      <td>61885.0</td>\n",
       "      <td>19312.0</td>\n",
       "      <td>44796.0</td>\n",
       "      <td>9060.0</td>\n",
       "      <td>5000.0</td>\n",
       "      <td>2962.0</td>\n",
       "      <td>224550</td>\n",
       "    </tr>\n",
       "    <tr>\n",
       "      <th>3</th>\n",
       "      <td>Braun, Rowe and Price</td>\n",
       "      <td>8150</td>\n",
       "      <td>1</td>\n",
       "      <td>0.0</td>\n",
       "      <td>4</td>\n",
       "      <td>0</td>\n",
       "      <td>42</td>\n",
       "      <td>No</td>\n",
       "      <td>NaN</td>\n",
       "      <td>NaN</td>\n",
       "      <td>NaN</td>\n",
       "      <td>NaN</td>\n",
       "      <td>NaN</td>\n",
       "      <td>NaN</td>\n",
       "      <td>Yes</td>\n",
       "      <td>Street patrol; Coordination with NYPD</td>\n",
       "      <td>180.0</td>\n",
       "      <td>30.0</td>\n",
       "      <td>No</td>\n",
       "      <td>NaN</td>\n",
       "      <td>NaN</td>\n",
       "      <td>NaN</td>\n",
       "      <td>NaN</td>\n",
       "      <td>NaN</td>\n",
       "      <td>NaN</td>\n",
       "      <td>NaN</td>\n",
       "      <td>NaN</td>\n",
       "      <td>NaN</td>\n",
       "      <td>No</td>\n",
       "      <td>Direct mailings; Door-to-door visits; Flyers; ...</td>\n",
       "      <td>0</td>\n",
       "      <td>250</td>\n",
       "      <td>3</td>\n",
       "      <td>40</td>\n",
       "      <td>$-</td>\n",
       "      <td>$-</td>\n",
       "      <td>NaN</td>\n",
       "      <td>18396.0</td>\n",
       "      <td>$1,850</td>\n",
       "      <td>18475.0</td>\n",
       "      <td>16000.0</td>\n",
       "      <td>6800.0</td>\n",
       "      <td>3005.0</td>\n",
       "      <td>2400.0</td>\n",
       "      <td>2000.0</td>\n",
       "      <td>1542.0</td>\n",
       "      <td>68618</td>\n",
       "    </tr>\n",
       "    <tr>\n",
       "      <th>4</th>\n",
       "      <td>Cormier and Sons</td>\n",
       "      <td>41110</td>\n",
       "      <td>62</td>\n",
       "      <td>66.0</td>\n",
       "      <td>34</td>\n",
       "      <td>13</td>\n",
       "      <td>I don't know</td>\n",
       "      <td>Yes</td>\n",
       "      <td>Street Sweeping and Bagging; Power Washing; Sn...</td>\n",
       "      <td>7.0</td>\n",
       "      <td>135200.0</td>\n",
       "      <td>3,677</td>\n",
       "      <td>255500.0</td>\n",
       "      <td>349.0</td>\n",
       "      <td>Yes</td>\n",
       "      <td>Street patrol; Coordination with NYPD</td>\n",
       "      <td>43909.0</td>\n",
       "      <td>2801.0</td>\n",
       "      <td>Yes</td>\n",
       "      <td>700.0</td>\n",
       "      <td>140.0</td>\n",
       "      <td>181.0</td>\n",
       "      <td>0.0</td>\n",
       "      <td>1228</td>\n",
       "      <td>1049</td>\n",
       "      <td>683</td>\n",
       "      <td>623</td>\n",
       "      <td>4.0</td>\n",
       "      <td>No</td>\n",
       "      <td>Digital advertising (i.e. Google, Facebook, In...</td>\n",
       "      <td>19700</td>\n",
       "      <td>10025</td>\n",
       "      <td>333</td>\n",
       "      <td>6150</td>\n",
       "      <td>$-</td>\n",
       "      <td>$2,584</td>\n",
       "      <td>3975551.0</td>\n",
       "      <td>2668152.0</td>\n",
       "      <td>$442,386</td>\n",
       "      <td>2175000.0</td>\n",
       "      <td>901393.0</td>\n",
       "      <td>66271.0</td>\n",
       "      <td>67009.0</td>\n",
       "      <td>102285.0</td>\n",
       "      <td>12220.0</td>\n",
       "      <td>147067.0</td>\n",
       "      <td>10114948</td>\n",
       "    </tr>\n",
       "  </tbody>\n",
       "</table>\n",
       "</div>"
      ],
      "text/plain": [
       "                           company  Floor Size (square feet)  Full-time staff  \\\n",
       "0                 Kreiger and Sons                     10270                3   \n",
       "1                 Ziemann and Sons                      5220                1   \n",
       "2  Runolfsdottir, Hauck and Little                      1740                1   \n",
       "3            Braun, Rowe and Price                      8150                1   \n",
       "4                 Cormier and Sons                     41110               62   \n",
       "\n",
       "   Sanitation staff employed  Safety Inspector  Part-time staff  \\\n",
       "0                        6.0                 4                7   \n",
       "1                        2.0                 4                2   \n",
       "2                        3.0                 0                0   \n",
       "3                        0.0                 4                0   \n",
       "4                       66.0                34               13   \n",
       "\n",
       "  Current clients Bid provides supplemental sanitation services  \\\n",
       "0             220                                           Yes   \n",
       "1             145                                           Yes   \n",
       "2             168                                           Yes   \n",
       "3              42                                            No   \n",
       "4    I don't know                                           Yes   \n",
       "\n",
       "      Types of duties assigned to sanitation workers  \\\n",
       "0  Street Sweeping and Bagging; Snow and Ice Remo...   \n",
       "1  Street Sweeping and Bagging; Snow and Ice Remo...   \n",
       "2  Street Sweeping and Bagging; Power Washing; Sn...   \n",
       "3                                                NaN   \n",
       "4  Street Sweeping and Bagging; Power Washing; Sn...   \n",
       "\n",
       "   Days per week of sanitation services  Hours logged by sanitation workers  \\\n",
       "0                                   6.0                             12699.0   \n",
       "1                                   7.0                              4488.0   \n",
       "2                                   7.0                              3240.0   \n",
       "3                                   NaN                                 NaN   \n",
       "4                                   7.0                            135200.0   \n",
       "\n",
       "  Incidents of graffiti removed  Trash bags collected  \\\n",
       "0                        15,085               73500.0   \n",
       "1                           915               42000.0   \n",
       "2                             6                1120.0   \n",
       "3                           NaN                   NaN   \n",
       "4                         3,677              255500.0   \n",
       "\n",
       "   Trash and recycling receptacles serviced  \\\n",
       "0                                      60.0   \n",
       "1                                      48.0   \n",
       "2                                      29.0   \n",
       "3                                       NaN   \n",
       "4                                     349.0   \n",
       "\n",
       "  Bid provides supplemental public safety services  \\\n",
       "0                                              Yes   \n",
       "1                                               No   \n",
       "2                                              Yes   \n",
       "3                                              Yes   \n",
       "4                                              Yes   \n",
       "\n",
       "  Duties assigned to public safety personnel  \\\n",
       "0      Street patrol; Coordination with NYPD   \n",
       "1                                        NaN   \n",
       "2                              Street patrol   \n",
       "3      Street patrol; Coordination with NYPD   \n",
       "4      Street patrol; Coordination with NYPD   \n",
       "\n",
       "   Hours logged by public safety officers  \\\n",
       "0                                  9875.0   \n",
       "1                                     NaN   \n",
       "2                                    80.0   \n",
       "3                                   180.0   \n",
       "4                                 43909.0   \n",
       "\n",
       "   Interactions with public safety officers  \\\n",
       "0                                    1438.0   \n",
       "1                                       NaN   \n",
       "2                                       0.0   \n",
       "3                                      30.0   \n",
       "4                                    2801.0   \n",
       "\n",
       "  Bid provides supplemental streetscape and beautification services  \\\n",
       "0                                                Yes                  \n",
       "1                                                Yes                  \n",
       "2                                                Yes                  \n",
       "3                                                 No                  \n",
       "4                                                Yes                  \n",
       "\n",
       "   Planters and hanging baskets maintained  Tree pits maintained  \\\n",
       "0                                      0.0                  27.0   \n",
       "1                                      0.0                  20.0   \n",
       "2                                      0.0                  20.0   \n",
       "3                                      NaN                   NaN   \n",
       "4                                    700.0                 140.0   \n",
       "\n",
       "   Banners maintained  Public art installations sponsored  \\\n",
       "0                64.0                                 0.0   \n",
       "1                12.0                                16.0   \n",
       "2                 0.0                                 4.0   \n",
       "3                 NaN                                 NaN   \n",
       "4               181.0                                 0.0   \n",
       "\n",
       "  Street furniture elements maintained Wayfinding elements maintained  \\\n",
       "0                                  155                              0   \n",
       "1                                   15                              6   \n",
       "2                                    0                              2   \n",
       "3                                  NaN                            NaN   \n",
       "4                                 1228                           1049   \n",
       "\n",
       "  Lighting elements maintained Other infrastructure elements maintained  \\\n",
       "0                           64                                        0   \n",
       "1                            0                                       20   \n",
       "2                           29                                        0   \n",
       "3                          NaN                                      NaN   \n",
       "4                          683                                      623   \n",
       "\n",
       "   Public spaces maintained Bid has holiday lighting program  \\\n",
       "0                       0.0                              Yes   \n",
       "1                       2.0                              Yes   \n",
       "2                       0.0                              Yes   \n",
       "3                       NaN                               No   \n",
       "4                       4.0                               No   \n",
       "\n",
       "                         Communication channels used  Social media followers  \\\n",
       "0  Print advertising (i.e. local newspaper); Digi...                   11646   \n",
       "1  Direct mailings; Flyers; Email bulletins; Soci...                       0   \n",
       "2  Print advertising (i.e. local newspaper); Dire...                       0   \n",
       "3  Direct mailings; Door-to-door visits; Flyers; ...                       0   \n",
       "4  Digital advertising (i.e. Google, Facebook, In...                   19700   \n",
       "\n",
       "   Marketing materials distributed  Public events coordinated  \\\n",
       "0                            31300                          2   \n",
       "1                             6500                         16   \n",
       "2                            35100                         38   \n",
       "3                              250                          3   \n",
       "4                            10025                        333   \n",
       "\n",
       "   Estimated attendees to public events coordinated Special event charges  \\\n",
       "0                                            121280               $32,700   \n",
       "1                                             61000               $35,000   \n",
       "2                                             15500                    $-   \n",
       "3                                                40                    $-   \n",
       "4                                              6150                    $-   \n",
       "\n",
       "  Miscellaneous charges  Sanitation expenses  Public safety expenses  \\\n",
       "0                    $-             305846.0                212483.0   \n",
       "1                    $-             119258.0                     NaN   \n",
       "2                $2,400              68630.0                     NaN   \n",
       "3                    $-                  NaN                 18396.0   \n",
       "4                $2,584            3975551.0               2668152.0   \n",
       "\n",
       "  Marketing, holiday lighting, and special event expenses  \\\n",
       "0                                           $130,351        \n",
       "1                                            $29,875        \n",
       "2                                            $39,151        \n",
       "3                                             $1,850        \n",
       "4                                           $442,386        \n",
       "\n",
       "   Streetscape & beautification expenses  Salaries  \\\n",
       "0                                    NaN  303350.0   \n",
       "1                                11383.0  137000.0   \n",
       "2                                12905.0   61885.0   \n",
       "3                                18475.0   16000.0   \n",
       "4                              2175000.0  901393.0   \n",
       "\n",
       "   Outside contractor expenses  Insurance costs  Rent and utilities  \\\n",
       "0                      22813.0          27852.0            134002.0   \n",
       "1                       6000.0           8071.0              8500.0   \n",
       "2                      19312.0          44796.0              9060.0   \n",
       "3                       6800.0           3005.0              2400.0   \n",
       "4                      66271.0          67009.0            102285.0   \n",
       "\n",
       "   Supplies and equipment costs  Other G&A expenses  Total Quotation  \n",
       "0                           NaN             58140.0          1064486  \n",
       "1                        5000.0              5000.0           300212  \n",
       "2                        5000.0              2962.0           224550  \n",
       "3                        2000.0              1542.0            68618  \n",
       "4                       12220.0            147067.0         10114948  "
      ]
     },
     "execution_count": 80,
     "metadata": {},
     "output_type": "execute_result"
    }
   ],
   "source": [
    "df.head(5)"
   ]
  },
  {
   "cell_type": "markdown",
   "metadata": {},
   "source": [
    "To check the datatypes of various attributes in dataset"
   ]
  },
  {
   "cell_type": "code",
   "execution_count": 81,
   "metadata": {
    "scrolled": true
   },
   "outputs": [
    {
     "data": {
      "text/plain": [
       "company                                                               object\n",
       "Floor Size (square feet)                                               int64\n",
       "Full-time staff                                                        int64\n",
       "Sanitation staff employed                                            float64\n",
       "Safety Inspector                                                       int64\n",
       "Part-time staff                                                        int64\n",
       "Current clients                                                       object\n",
       "Bid provides supplemental sanitation services                         object\n",
       "Types of duties assigned to sanitation workers                        object\n",
       "Days per week of sanitation services                                 float64\n",
       "Hours logged by sanitation workers                                   float64\n",
       "Incidents of graffiti removed                                         object\n",
       "Trash bags collected                                                 float64\n",
       "Trash and recycling receptacles serviced                             float64\n",
       "Bid provides supplemental public safety services                      object\n",
       "Duties assigned to public safety personnel                            object\n",
       "Hours logged by public safety officers                               float64\n",
       "Interactions with public safety officers                             float64\n",
       "Bid provides supplemental streetscape and beautification services     object\n",
       "Planters and hanging baskets maintained                              float64\n",
       "Tree pits maintained                                                 float64\n",
       "Banners maintained                                                   float64\n",
       "Public art installations sponsored                                   float64\n",
       "Street furniture elements maintained                                  object\n",
       "Wayfinding elements maintained                                        object\n",
       "Lighting elements maintained                                          object\n",
       "Other infrastructure elements maintained                              object\n",
       "Public spaces maintained                                             float64\n",
       "Bid has holiday lighting program                                      object\n",
       "Communication channels used                                           object\n",
       "Social media followers                                                 int64\n",
       "Marketing materials distributed                                        int64\n",
       "Public events coordinated                                              int64\n",
       "Estimated attendees to public events coordinated                       int64\n",
       "Special event charges                                                 object\n",
       "Miscellaneous charges                                                 object\n",
       "Sanitation expenses                                                  float64\n",
       "Public safety expenses                                               float64\n",
       "Marketing, holiday lighting, and special event expenses               object\n",
       "Streetscape & beautification expenses                                float64\n",
       "Salaries                                                             float64\n",
       "Outside contractor expenses                                          float64\n",
       "Insurance costs                                                      float64\n",
       "Rent and utilities                                                   float64\n",
       "Supplies and equipment costs                                         float64\n",
       "Other G&A expenses                                                   float64\n",
       "Total Quotation                                                        int64\n",
       "dtype: object"
      ]
     },
     "execution_count": 81,
     "metadata": {},
     "output_type": "execute_result"
    }
   ],
   "source": [
    "df.dtypes"
   ]
  },
  {
   "cell_type": "code",
   "execution_count": 82,
   "metadata": {},
   "outputs": [
    {
     "data": {
      "text/plain": [
       "(75, 47)"
      ]
     },
     "execution_count": 82,
     "metadata": {},
     "output_type": "execute_result"
    }
   ],
   "source": [
    "df.shape"
   ]
  },
  {
   "cell_type": "markdown",
   "metadata": {},
   "source": [
    "Is there any missing value in dataset, if yes how many?"
   ]
  },
  {
   "cell_type": "code",
   "execution_count": 83,
   "metadata": {
    "scrolled": true
   },
   "outputs": [
    {
     "data": {
      "text/plain": [
       "company                                                               0\n",
       "Floor Size (square feet)                                              0\n",
       "Full-time staff                                                       0\n",
       "Sanitation staff employed                                             0\n",
       "Safety Inspector                                                      0\n",
       "Part-time staff                                                       0\n",
       "Current clients                                                       0\n",
       "Bid provides supplemental sanitation services                         0\n",
       "Types of duties assigned to sanitation workers                        2\n",
       "Days per week of sanitation services                                  3\n",
       "Hours logged by sanitation workers                                    3\n",
       "Incidents of graffiti removed                                         3\n",
       "Trash bags collected                                                  3\n",
       "Trash and recycling receptacles serviced                              3\n",
       "Bid provides supplemental public safety services                      0\n",
       "Duties assigned to public safety personnel                           38\n",
       "Hours logged by public safety officers                               37\n",
       "Interactions with public safety officers                             37\n",
       "Bid provides supplemental streetscape and beautification services     0\n",
       "Planters and hanging baskets maintained                              11\n",
       "Tree pits maintained                                                 11\n",
       "Banners maintained                                                   11\n",
       "Public art installations sponsored                                   11\n",
       "Street furniture elements maintained                                 11\n",
       "Wayfinding elements maintained                                       11\n",
       "Lighting elements maintained                                         12\n",
       "Other infrastructure elements maintained                             11\n",
       "Public spaces maintained                                             11\n",
       "Bid has holiday lighting program                                      0\n",
       "Communication channels used                                           1\n",
       "Social media followers                                                0\n",
       "Marketing materials distributed                                       0\n",
       "Public events coordinated                                             0\n",
       "Estimated attendees to public events coordinated                      0\n",
       "Special event charges                                                 0\n",
       "Miscellaneous charges                                                 0\n",
       "Sanitation expenses                                                   2\n",
       "Public safety expenses                                               38\n",
       "Marketing, holiday lighting, and special event expenses               0\n",
       "Streetscape & beautification expenses                                17\n",
       "Salaries                                                              4\n",
       "Outside contractor expenses                                           8\n",
       "Insurance costs                                                       3\n",
       "Rent and utilities                                                    8\n",
       "Supplies and equipment costs                                          9\n",
       "Other G&A expenses                                                    6\n",
       "Total Quotation                                                       0\n",
       "dtype: int64"
      ]
     },
     "execution_count": 83,
     "metadata": {},
     "output_type": "execute_result"
    }
   ],
   "source": [
    "df.isnull().values.any()\n",
    "df.isnull().sum()"
   ]
  },
  {
   "cell_type": "markdown",
   "metadata": {},
   "source": [
    "Importing Simple Imputer"
   ]
  },
  {
   "cell_type": "code",
   "execution_count": 84,
   "metadata": {},
   "outputs": [],
   "source": [
    "from sklearn.impute import SimpleImputer"
   ]
  },
  {
   "cell_type": "code",
   "execution_count": 85,
   "metadata": {},
   "outputs": [
    {
     "data": {
      "text/plain": [
       "numpy.float64"
      ]
     },
     "execution_count": 85,
     "metadata": {},
     "output_type": "execute_result"
    }
   ],
   "source": [
    "type(df['Hours logged by public safety officers'].iloc[0])"
   ]
  },
  {
   "cell_type": "markdown",
   "metadata": {},
   "source": [
    "# Pre-processing"
   ]
  },
  {
   "cell_type": "markdown",
   "metadata": {},
   "source": [
    "<b>Feature Identification and grouping </b><br>\n",
    "1. Merging the staff column and creating a new column called Total_Staff"
   ]
  },
  {
   "cell_type": "code",
   "execution_count": 86,
   "metadata": {},
   "outputs": [],
   "source": [
    "df['Total_Staff'] = df['Full-time staff'] + df['Sanitation staff employed'] + df['Safety Inspector'] + df['Part-time staff']"
   ]
  },
  {
   "cell_type": "code",
   "execution_count": 87,
   "metadata": {
    "scrolled": true
   },
   "outputs": [
    {
     "data": {
      "text/plain": [
       "0      20.00\n",
       "1       9.00\n",
       "2       4.00\n",
       "3       5.00\n",
       "4     175.00\n",
       "5       5.00\n",
       "6       7.00\n",
       "7       5.00\n",
       "8       7.00\n",
       "9      14.00\n",
       "10     22.00\n",
       "11      8.00\n",
       "12      5.00\n",
       "13    141.00\n",
       "14     26.00\n",
       "15      5.00\n",
       "16      5.00\n",
       "17     14.00\n",
       "18      8.00\n",
       "19      8.00\n",
       "20    202.00\n",
       "21     12.00\n",
       "22     24.00\n",
       "23      7.00\n",
       "24     55.00\n",
       "25      8.00\n",
       "26     40.00\n",
       "27      8.00\n",
       "28      6.00\n",
       "29     38.00\n",
       "       ...  \n",
       "45     10.00\n",
       "46     12.00\n",
       "47     27.00\n",
       "48     19.00\n",
       "49     38.00\n",
       "50     11.00\n",
       "51      7.00\n",
       "52      8.00\n",
       "53      9.00\n",
       "54      7.00\n",
       "55      9.00\n",
       "56      1.00\n",
       "57      6.25\n",
       "58     14.00\n",
       "59     10.00\n",
       "60      5.00\n",
       "61      2.00\n",
       "62      3.00\n",
       "63      7.00\n",
       "64      8.00\n",
       "65      6.00\n",
       "66      4.00\n",
       "67     13.00\n",
       "68    169.00\n",
       "69     34.00\n",
       "70     20.00\n",
       "71      7.00\n",
       "72     10.00\n",
       "73      8.00\n",
       "74      5.00\n",
       "Name: Total_Staff, Length: 75, dtype: float64"
      ]
     },
     "execution_count": 87,
     "metadata": {},
     "output_type": "execute_result"
    }
   ],
   "source": [
    "df['Total_Staff'] #viewing and verifying total staff"
   ]
  },
  {
   "cell_type": "code",
   "execution_count": 88,
   "metadata": {},
   "outputs": [],
   "source": [
    "df.drop(['Full-time staff','Sanitation staff employed','Safety Inspector','Part-time staff'],axis=1,inplace=True) #dropping the columns"
   ]
  },
  {
   "cell_type": "code",
   "execution_count": 89,
   "metadata": {
    "scrolled": true
   },
   "outputs": [
    {
     "data": {
      "text/plain": [
       "(75, 44)"
      ]
     },
     "execution_count": 89,
     "metadata": {},
     "output_type": "execute_result"
    }
   ],
   "source": [
    "df.shape"
   ]
  },
  {
   "cell_type": "markdown",
   "metadata": {},
   "source": [
    "2. Merging the Services provided column"
   ]
  },
  {
   "cell_type": "code",
   "execution_count": 90,
   "metadata": {
    "scrolled": true
   },
   "outputs": [],
   "source": [
    "df['Services_Provided'] = df['Types of duties assigned to sanitation workers'] + \";\" + df['Duties assigned to public safety personnel']"
   ]
  },
  {
   "cell_type": "code",
   "execution_count": 91,
   "metadata": {
    "scrolled": true
   },
   "outputs": [
    {
     "data": {
      "text/plain": [
       "0     Street Sweeping and Bagging; Snow and Ice Remo...\n",
       "1                                                   NaN\n",
       "2     Street Sweeping and Bagging; Power Washing; Sn...\n",
       "3                                                   NaN\n",
       "4     Street Sweeping and Bagging; Power Washing; Sn...\n",
       "5                                                   NaN\n",
       "6                                                   NaN\n",
       "7                                                   NaN\n",
       "8     Street Sweeping and Bagging; Snow and Ice Remo...\n",
       "9                                                   NaN\n",
       "10    Street Sweeping and Bagging; Power Washing; Sn...\n",
       "11    Street Sweeping and Bagging; Power Washing; Sn...\n",
       "12                                                  NaN\n",
       "13    Street Sweeping and Bagging; Power Washing; Sn...\n",
       "14                                                  NaN\n",
       "15                                                  NaN\n",
       "16                                                  NaN\n",
       "17    Street Sweeping and Bagging; Snow and Ice Remo...\n",
       "18    Street Sweeping and Bagging; Power Washing; Sn...\n",
       "19    Street Sweeping and Bagging; Graffiti Removal;...\n",
       "20    Street Sweeping and Bagging; Power Washing; Sn...\n",
       "21                                                  NaN\n",
       "22                                                  NaN\n",
       "23                                                  NaN\n",
       "24    Street Sweeping and Bagging; Power Washing; Sn...\n",
       "25    Street Sweeping and Bagging; Power Washing; Sn...\n",
       "26    Street Sweeping and Bagging; Snow and Ice Remo...\n",
       "27    Street Sweeping and Bagging; Snow and Ice Remo...\n",
       "28                                                  NaN\n",
       "29    Street Sweeping and Bagging; Power Washing; Sn...\n",
       "                            ...                        \n",
       "45    Street Sweeping and Bagging; Power Washing; Sn...\n",
       "46                                                  NaN\n",
       "47    Street Sweeping and Bagging; Power Washing; Sn...\n",
       "48    Street Sweeping and Bagging; Power Washing; Sn...\n",
       "49    Street Sweeping and Bagging; Power Washing; Sn...\n",
       "50                                                  NaN\n",
       "51    Street Sweeping and Bagging; Snow and Ice Remo...\n",
       "52                                                  NaN\n",
       "53                                                  NaN\n",
       "54                                                  NaN\n",
       "55                                                  NaN\n",
       "56                                                  NaN\n",
       "57                                                  NaN\n",
       "58                                                  NaN\n",
       "59    Street Sweeping and Bagging; Power Washing; Sn...\n",
       "60    Street Sweeping and Bagging;Monitoring securit...\n",
       "61                                                  NaN\n",
       "62    Street Sweeping and Bagging; Power Washing; Sn...\n",
       "63    Street Sweeping and Bagging; Snow and Ice Remo...\n",
       "64                                                  NaN\n",
       "65                                                  NaN\n",
       "66                                                  NaN\n",
       "67    Street Sweeping and Bagging; Power Washing; Sn...\n",
       "68    Street Sweeping and Bagging; Power Washing; Sn...\n",
       "69                                                  NaN\n",
       "70    Street Sweeping and Bagging; Power Washing; Sn...\n",
       "71                                                  NaN\n",
       "72                                                  NaN\n",
       "73    Street Sweeping and Bagging; Snow and Ice Remo...\n",
       "74                                                  NaN\n",
       "Name: Services_Provided, Length: 75, dtype: object"
      ]
     },
     "execution_count": 91,
     "metadata": {},
     "output_type": "execute_result"
    }
   ],
   "source": [
    "df['Services_Provided']"
   ]
  },
  {
   "cell_type": "code",
   "execution_count": 92,
   "metadata": {},
   "outputs": [],
   "source": [
    "df.drop(['Types of duties assigned to sanitation workers','Duties assigned to public safety personnel'],axis=1,inplace=True)"
   ]
  },
  {
   "cell_type": "markdown",
   "metadata": {},
   "source": [
    "3. Prdicting null values data using simple impute from scikit, using \"mean\" strategy"
   ]
  },
  {
   "cell_type": "code",
   "execution_count": 93,
   "metadata": {
    "scrolled": true
   },
   "outputs": [],
   "source": [
    "imr = SimpleImputer(missing_values=np.nan, strategy='mean')\n",
    "imr = imr.fit(df[['Hours logged by public safety officers']])\n",
    "df['Hours logged by public safety officers'] = imr.transform(df[['Hours logged by public safety officers']]).ravel()\n",
    "\n",
    "\n",
    "#Hours logged by public safety officers                               37"
   ]
  },
  {
   "cell_type": "code",
   "execution_count": 94,
   "metadata": {
    "scrolled": true
   },
   "outputs": [
    {
     "data": {
      "text/plain": [
       "0       9875.000000\n",
       "1      17372.572368\n",
       "2         80.000000\n",
       "3        180.000000\n",
       "4      43909.000000\n",
       "5      17372.572368\n",
       "6      17372.572368\n",
       "7      17372.572368\n",
       "8       2080.000000\n",
       "9      17372.572368\n",
       "10       549.000000\n",
       "11      5312.000000\n",
       "12     17372.572368\n",
       "13     24040.000000\n",
       "14     17372.572368\n",
       "15     17372.572368\n",
       "16     17372.572368\n",
       "17         0.000000\n",
       "18      4160.000000\n",
       "19     16676.000000\n",
       "20    122596.000000\n",
       "21     17372.572368\n",
       "22     17372.572368\n",
       "23     17372.572368\n",
       "24     14566.000000\n",
       "25        78.000000\n",
       "26     45000.000000\n",
       "27      2898.000000\n",
       "28       240.000000\n",
       "29     16510.000000\n",
       "          ...      \n",
       "45       500.000000\n",
       "46     17372.572368\n",
       "47     27040.000000\n",
       "48      6240.000000\n",
       "49     45760.000000\n",
       "50     17372.572368\n",
       "51         4.000000\n",
       "52     17372.572368\n",
       "53     17372.572368\n",
       "54     17372.572368\n",
       "55     17372.572368\n",
       "56     17372.572368\n",
       "57     17372.572368\n",
       "58     17372.572368\n",
       "59       910.000000\n",
       "60       104.000000\n",
       "61     17372.572368\n",
       "62       225.000000\n",
       "63       100.000000\n",
       "64     17372.572368\n",
       "65     17372.572368\n",
       "66     17372.572368\n",
       "67      1020.000000\n",
       "68     99560.000000\n",
       "69     17372.572368\n",
       "70      6120.000000\n",
       "71     17372.572368\n",
       "72     17372.572368\n",
       "73      2100.000000\n",
       "74     17372.572368\n",
       "Name: Hours logged by public safety officers, Length: 75, dtype: float64"
      ]
     },
     "execution_count": 94,
     "metadata": {},
     "output_type": "execute_result"
    }
   ],
   "source": [
    "df['Hours logged by public safety officers']"
   ]
  },
  {
   "cell_type": "markdown",
   "metadata": {},
   "source": [
    "3. Replacing \",\", Nan and - with respective values"
   ]
  },
  {
   "cell_type": "code",
   "execution_count": 95,
   "metadata": {},
   "outputs": [],
   "source": [
    "df['Incidents of graffiti removed'] = df['Incidents of graffiti removed'].str.replace(\",\",\"\")"
   ]
  },
  {
   "cell_type": "code",
   "execution_count": 96,
   "metadata": {},
   "outputs": [],
   "source": [
    "df['Incidents of graffiti removed'] = df['Incidents of graffiti removed'].str.replace(\"-\",\"0\")"
   ]
  },
  {
   "cell_type": "code",
   "execution_count": 97,
   "metadata": {},
   "outputs": [],
   "source": [
    "df['Incidents of graffiti removed'] = df['Incidents of graffiti removed'].fillna(\"0\")"
   ]
  },
  {
   "cell_type": "code",
   "execution_count": 98,
   "metadata": {
    "scrolled": true
   },
   "outputs": [
    {
     "name": "stdout",
     "output_type": "stream",
     "text": [
      "0     15085\n",
      "1       915\n",
      "2         6\n",
      "3         0\n",
      "4      3677\n",
      "5       226\n",
      "6         0\n",
      "7       168\n",
      "8      5400\n",
      "9        72\n",
      "10     3842\n",
      "11       58\n",
      "12       12\n",
      "13      107\n",
      "14     3105\n",
      "15     1683\n",
      "16     1500\n",
      "17      400\n",
      "18      780\n",
      "19     2550\n",
      "20     2096\n",
      "21      580\n",
      "22      275\n",
      "23        0\n",
      "24      675\n",
      "25     2125\n",
      "26      200\n",
      "27     2015\n",
      "28       44\n",
      "29    20282\n",
      "      ...  \n",
      "45      111\n",
      "46     3062\n",
      "47     5247\n",
      "48     1021\n",
      "49     1560\n",
      "50       22\n",
      "51      120\n",
      "52      246\n",
      "53       67\n",
      "54        1\n",
      "55     8908\n",
      "56      630\n",
      "57     1117\n",
      "58       80\n",
      "59     1574\n",
      "60        0\n",
      "61        0\n",
      "62       62\n",
      "63     4525\n",
      "64    13712\n",
      "65      150\n",
      "66        3\n",
      "67       83\n",
      "68     2235\n",
      "69    17892\n",
      "70     8446\n",
      "71     1375\n",
      "72        0\n",
      "73       39\n",
      "74      150\n",
      "Name: Incidents of graffiti removed, Length: 75, dtype: object\n"
     ]
    }
   ],
   "source": [
    "print(df['Incidents of graffiti removed'])"
   ]
  },
  {
   "cell_type": "markdown",
   "metadata": {},
   "source": [
    "4. Number Of Sanitation Activities - Using astype(\"float\") to convert to float"
   ]
  },
  {
   "cell_type": "code",
   "execution_count": 99,
   "metadata": {
    "scrolled": true
   },
   "outputs": [],
   "source": [
    "df['Number_Of_Sanitation_Activities'] = df['Incidents of graffiti removed'].astype(\"float\") + df['Trash bags collected'] + df['Trash and recycling receptacles serviced']"
   ]
  },
  {
   "cell_type": "code",
   "execution_count": 100,
   "metadata": {
    "scrolled": true
   },
   "outputs": [
    {
     "name": "stdout",
     "output_type": "stream",
     "text": [
      "0      88645.0\n",
      "1      42963.0\n",
      "2       1155.0\n",
      "3          NaN\n",
      "4     259526.0\n",
      "5       9441.0\n",
      "6      57039.0\n",
      "7      18728.0\n",
      "8      41484.0\n",
      "9       2342.0\n",
      "10     29658.0\n",
      "11     18328.0\n",
      "12      8064.0\n",
      "13     89302.0\n",
      "14     96146.0\n",
      "15     66723.0\n",
      "16     26080.0\n",
      "17     17428.0\n",
      "18     73888.0\n",
      "19     12064.0\n",
      "20    138762.0\n",
      "21     90660.0\n",
      "22     38810.0\n",
      "23      1382.0\n",
      "24    141591.0\n",
      "25     74740.0\n",
      "26     62278.0\n",
      "27     80087.0\n",
      "28     20980.0\n",
      "29    205783.0\n",
      "        ...   \n",
      "45     46515.0\n",
      "46     24088.0\n",
      "47    106556.0\n",
      "48     52939.0\n",
      "49    147719.0\n",
      "50        66.0\n",
      "51     49097.0\n",
      "52     45337.0\n",
      "53     78628.0\n",
      "54       121.0\n",
      "55     72368.0\n",
      "56     15409.0\n",
      "57     26819.0\n",
      "58      7448.0\n",
      "59     48690.0\n",
      "60      3020.0\n",
      "61         NaN\n",
      "62      4941.0\n",
      "63     84311.0\n",
      "64     44199.0\n",
      "65     36756.0\n",
      "66     25020.0\n",
      "67      8287.0\n",
      "68    185135.0\n",
      "69    208887.0\n",
      "70     94554.0\n",
      "71     61650.0\n",
      "72      1205.0\n",
      "73     10562.0\n",
      "74     78270.0\n",
      "Name: Number_Of_Sanitation_Activities, Length: 75, dtype: float64\n"
     ]
    }
   ],
   "source": [
    "print(df['Number_Of_Sanitation_Activities'])"
   ]
  },
  {
   "cell_type": "markdown",
   "metadata": {},
   "source": [
    "Dropping the not needed columns\n"
   ]
  },
  {
   "cell_type": "code",
   "execution_count": 101,
   "metadata": {},
   "outputs": [],
   "source": [
    "df.drop(['Incidents of graffiti removed','Trash bags collected','Trash and recycling receptacles serviced'],axis=1,inplace=True)"
   ]
  },
  {
   "cell_type": "markdown",
   "metadata": {},
   "source": [
    "5. Merging all Number of Beautification activities"
   ]
  },
  {
   "cell_type": "code",
   "execution_count": 102,
   "metadata": {
    "scrolled": true
   },
   "outputs": [
    {
     "name": "stderr",
     "output_type": "stream",
     "text": [
      "C:\\Users\\HP\\Anaconda3\\lib\\site-packages\\ipykernel_launcher.py:1: FutureWarning: convert_objects is deprecated.  To re-infer data dtypes for object columns, use Series.infer_objects()\n",
      "For all other conversions use the data-type specific converters pd.to_datetime, pd.to_timedelta and pd.to_numeric.\n",
      "  \"\"\"Entry point for launching an IPython kernel.\n",
      "C:\\Users\\HP\\Anaconda3\\lib\\site-packages\\ipykernel_launcher.py:2: FutureWarning: convert_objects is deprecated.  To re-infer data dtypes for object columns, use Series.infer_objects()\n",
      "For all other conversions use the data-type specific converters pd.to_datetime, pd.to_timedelta and pd.to_numeric.\n",
      "  \n",
      "C:\\Users\\HP\\Anaconda3\\lib\\site-packages\\ipykernel_launcher.py:3: FutureWarning: convert_objects is deprecated.  To re-infer data dtypes for object columns, use Series.infer_objects()\n",
      "For all other conversions use the data-type specific converters pd.to_datetime, pd.to_timedelta and pd.to_numeric.\n",
      "  This is separate from the ipykernel package so we can avoid doing imports until\n"
     ]
    },
    {
     "data": {
      "text/plain": [
       "0       64.0\n",
       "1       22.0\n",
       "2       29.0\n",
       "3        NaN\n",
       "4     1310.0\n",
       "5       78.0\n",
       "6        1.0\n",
       "7      340.0\n",
       "8        NaN\n",
       "9        7.0\n",
       "10      51.0\n",
       "11       NaN\n",
       "12       NaN\n",
       "13     379.0\n",
       "14    1554.0\n",
       "15       NaN\n",
       "16     148.0\n",
       "17      39.0\n",
       "18       NaN\n",
       "19      37.0\n",
       "20       NaN\n",
       "21       2.0\n",
       "22       4.0\n",
       "23       1.0\n",
       "24     601.0\n",
       "25      37.0\n",
       "26       NaN\n",
       "27       NaN\n",
       "28       NaN\n",
       "29      97.0\n",
       "       ...  \n",
       "45      40.0\n",
       "46     119.0\n",
       "47      54.0\n",
       "48     230.0\n",
       "49     109.0\n",
       "50      20.0\n",
       "51      28.0\n",
       "52     123.0\n",
       "53     110.0\n",
       "54      42.0\n",
       "55      53.0\n",
       "56       NaN\n",
       "57       1.0\n",
       "58       2.0\n",
       "59       NaN\n",
       "60       1.0\n",
       "61       NaN\n",
       "62      16.0\n",
       "63      33.0\n",
       "64     112.0\n",
       "65       0.0\n",
       "66       NaN\n",
       "67      17.0\n",
       "68     252.0\n",
       "69       NaN\n",
       "70     152.0\n",
       "71       NaN\n",
       "72       5.0\n",
       "73       1.0\n",
       "74       1.0\n",
       "Length: 75, dtype: float64"
      ]
     },
     "execution_count": 102,
     "metadata": {},
     "output_type": "execute_result"
    }
   ],
   "source": [
    "df['Beautification_Activities'] = df['Planters and hanging baskets maintained'] + df['Tree pits maintained'] + df['Banners maintained'] + df['Public art installations sponsored'] + (df['Street furniture elements maintained']).convert_objects(convert_numeric=True) \n",
    "+ (df['Wayfinding elements maintained']).convert_objects(convert_numeric=True)\n",
    "+ (df['Lighting elements maintained']).convert_objects(convert_numeric=True) + (df['Other infrastructure elements maintained']).convert_objects(convert_numeric=True) + df['Public spaces maintained']                          \n",
    " \n",
    "                                                    "
   ]
  },
  {
   "cell_type": "markdown",
   "metadata": {},
   "source": [
    "Removing unnecessary columns of beautification activities"
   ]
  },
  {
   "cell_type": "code",
   "execution_count": 103,
   "metadata": {},
   "outputs": [],
   "source": [
    "df.drop(['Planters and hanging baskets maintained','Tree pits maintained','Banners maintained','Public art installations sponsored','Street furniture elements maintained','Wayfinding elements maintained','Lighting elements maintained','Other infrastructure elements maintained','Public spaces maintained'],axis=1,inplace=True)"
   ]
  },
  {
   "cell_type": "code",
   "execution_count": 104,
   "metadata": {},
   "outputs": [
    {
     "data": {
      "text/plain": [
       "(75, 33)"
      ]
     },
     "execution_count": 104,
     "metadata": {},
     "output_type": "execute_result"
    }
   ],
   "source": [
    "df.shape"
   ]
  },
  {
   "cell_type": "markdown",
   "metadata": {},
   "source": [
    "6. Replacing Null values of Beautification activities with 0"
   ]
  },
  {
   "cell_type": "code",
   "execution_count": 105,
   "metadata": {},
   "outputs": [],
   "source": [
    "df['Beautification_Activities'] = df['Beautification_Activities'].fillna(\"0\")"
   ]
  },
  {
   "cell_type": "code",
   "execution_count": 106,
   "metadata": {
    "scrolled": true
   },
   "outputs": [
    {
     "name": "stdout",
     "output_type": "stream",
     "text": [
      "0      246\n",
      "1       63\n",
      "2       24\n",
      "3        0\n",
      "4     2249\n",
      "5      103\n",
      "6       67\n",
      "7      395\n",
      "8      315\n",
      "9      112\n",
      "10     154\n",
      "11     101\n",
      "12       0\n",
      "13    5186\n",
      "14     434\n",
      "15       0\n",
      "16     180\n",
      "17     215\n",
      "18     626\n",
      "19      21\n",
      "20       0\n",
      "21     168\n",
      "22     259\n",
      "23      35\n",
      "24     160\n",
      "25     306\n",
      "26       0\n",
      "27       0\n",
      "28       0\n",
      "29     810\n",
      "      ... \n",
      "45     406\n",
      "46     340\n",
      "47     103\n",
      "48     301\n",
      "49     985\n",
      "50     120\n",
      "51      37\n",
      "52     307\n",
      "53     468\n",
      "54     195\n",
      "55      71\n",
      "56     175\n",
      "57      50\n",
      "58      66\n",
      "59       0\n",
      "60      98\n",
      "61       0\n",
      "62      36\n",
      "63     138\n",
      "64     247\n",
      "65      32\n",
      "66       0\n",
      "67      89\n",
      "68    1112\n",
      "69    1153\n",
      "70     462\n",
      "71       0\n",
      "72      71\n",
      "73     123\n",
      "74     109\n",
      "Name: Beautification_Activities, Length: 75, dtype: object\n"
     ]
    }
   ],
   "source": [
    "print(df['Beautification_Activities'])"
   ]
  },
  {
   "cell_type": "markdown",
   "metadata": {},
   "source": [
    "7. Calculating Total media reach of the company"
   ]
  },
  {
   "cell_type": "code",
   "execution_count": 107,
   "metadata": {},
   "outputs": [],
   "source": [
    "df['Media_Reach'] = df['Social media followers'] + df['Marketing materials distributed'] + (df['Public events coordinated']*df['Estimated attendees to public events coordinated'])      \n",
    "#media_reach column made by Social media followers'] + df['Marketing materials distributed'] + \n",
    "#(df['Public events coordinated']*df['Estimated attendees to public events coordinated'])      \n",
    "\n",
    "                                            "
   ]
  },
  {
   "cell_type": "code",
   "execution_count": 108,
   "metadata": {},
   "outputs": [],
   "source": [
    "df.drop(['Social media followers','Marketing materials distributed','Public events coordinated','Estimated attendees to public events coordinated'],axis=1,inplace=True)"
   ]
  },
  {
   "cell_type": "code",
   "execution_count": 109,
   "metadata": {
    "scrolled": true
   },
   "outputs": [
    {
     "name": "stdout",
     "output_type": "stream",
     "text": [
      "0         285506\n",
      "1         982500\n",
      "2         624100\n",
      "3            370\n",
      "4        2077675\n",
      "5          87801\n",
      "6           6100\n",
      "7          18035\n",
      "8         531077\n",
      "9          38874\n",
      "10         74260\n",
      "11        750463\n",
      "12         12000\n",
      "13     839811400\n",
      "14      34856395\n",
      "15         71704\n",
      "16        128799\n",
      "17        194916\n",
      "18         35532\n",
      "19         98000\n",
      "20       2129275\n",
      "21        305044\n",
      "22      12695650\n",
      "23          8678\n",
      "24        120522\n",
      "25        211849\n",
      "26             0\n",
      "27        301654\n",
      "28         17150\n",
      "29        774249\n",
      "         ...    \n",
      "45        115064\n",
      "46      12445404\n",
      "47         50355\n",
      "48        462899\n",
      "49       1287192\n",
      "50         44000\n",
      "51         16558\n",
      "52        353770\n",
      "53       7911665\n",
      "54        220850\n",
      "55          4808\n",
      "56        108764\n",
      "57       2160235\n",
      "58         65900\n",
      "59          2569\n",
      "60         31767\n",
      "61            20\n",
      "62        123491\n",
      "63         52685\n",
      "64        747800\n",
      "65        612500\n",
      "66        143278\n",
      "67       5613264\n",
      "68    3262248374\n",
      "69       4749346\n",
      "70        296623\n",
      "71         27800\n",
      "72           100\n",
      "73        445822\n",
      "74         18345\n",
      "Name: Media_Reach, Length: 75, dtype: int64\n"
     ]
    }
   ],
   "source": [
    "print(df['Media_Reach'])"
   ]
  },
  {
   "cell_type": "code",
   "execution_count": 110,
   "metadata": {},
   "outputs": [
    {
     "data": {
      "text/html": [
       "<div>\n",
       "<style scoped>\n",
       "    .dataframe tbody tr th:only-of-type {\n",
       "        vertical-align: middle;\n",
       "    }\n",
       "\n",
       "    .dataframe tbody tr th {\n",
       "        vertical-align: top;\n",
       "    }\n",
       "\n",
       "    .dataframe thead th {\n",
       "        text-align: right;\n",
       "    }\n",
       "</style>\n",
       "<table border=\"1\" class=\"dataframe\">\n",
       "  <thead>\n",
       "    <tr style=\"text-align: right;\">\n",
       "      <th></th>\n",
       "      <th>company</th>\n",
       "      <th>Floor Size (square feet)</th>\n",
       "      <th>Current clients</th>\n",
       "      <th>Bid provides supplemental sanitation services</th>\n",
       "      <th>Days per week of sanitation services</th>\n",
       "      <th>Hours logged by sanitation workers</th>\n",
       "      <th>Bid provides supplemental public safety services</th>\n",
       "      <th>Hours logged by public safety officers</th>\n",
       "      <th>Interactions with public safety officers</th>\n",
       "      <th>Bid provides supplemental streetscape and beautification services</th>\n",
       "      <th>Bid has holiday lighting program</th>\n",
       "      <th>Communication channels used</th>\n",
       "      <th>Special event charges</th>\n",
       "      <th>Miscellaneous charges</th>\n",
       "      <th>Sanitation expenses</th>\n",
       "      <th>Public safety expenses</th>\n",
       "      <th>Marketing, holiday lighting, and special event expenses</th>\n",
       "      <th>Streetscape &amp; beautification expenses</th>\n",
       "      <th>Salaries</th>\n",
       "      <th>Outside contractor expenses</th>\n",
       "      <th>Insurance costs</th>\n",
       "      <th>Rent and utilities</th>\n",
       "      <th>Supplies and equipment costs</th>\n",
       "      <th>Other G&amp;A expenses</th>\n",
       "      <th>Total Quotation</th>\n",
       "      <th>Total_Staff</th>\n",
       "      <th>Services_Provided</th>\n",
       "      <th>Number_Of_Sanitation_Activities</th>\n",
       "      <th>Beautification_Activities</th>\n",
       "      <th>Media_Reach</th>\n",
       "    </tr>\n",
       "  </thead>\n",
       "  <tbody>\n",
       "    <tr>\n",
       "      <th>0</th>\n",
       "      <td>Kreiger and Sons</td>\n",
       "      <td>10270</td>\n",
       "      <td>220</td>\n",
       "      <td>Yes</td>\n",
       "      <td>6.0</td>\n",
       "      <td>12699.0</td>\n",
       "      <td>Yes</td>\n",
       "      <td>9875.0</td>\n",
       "      <td>1438.0</td>\n",
       "      <td>Yes</td>\n",
       "      <td>Yes</td>\n",
       "      <td>Print advertising (i.e. local newspaper); Digi...</td>\n",
       "      <td>$32,700</td>\n",
       "      <td>$-</td>\n",
       "      <td>305846.0</td>\n",
       "      <td>212483.0</td>\n",
       "      <td>$130,351</td>\n",
       "      <td>NaN</td>\n",
       "      <td>303350.0</td>\n",
       "      <td>22813.0</td>\n",
       "      <td>27852.0</td>\n",
       "      <td>134002.0</td>\n",
       "      <td>NaN</td>\n",
       "      <td>58140.0</td>\n",
       "      <td>1064486</td>\n",
       "      <td>20.0</td>\n",
       "      <td>Street Sweeping and Bagging; Snow and Ice Remo...</td>\n",
       "      <td>88645.0</td>\n",
       "      <td>246</td>\n",
       "      <td>285506</td>\n",
       "    </tr>\n",
       "  </tbody>\n",
       "</table>\n",
       "</div>"
      ],
      "text/plain": [
       "            company  Floor Size (square feet) Current clients  \\\n",
       "0  Kreiger and Sons                     10270             220   \n",
       "\n",
       "  Bid provides supplemental sanitation services  \\\n",
       "0                                           Yes   \n",
       "\n",
       "   Days per week of sanitation services  Hours logged by sanitation workers  \\\n",
       "0                                   6.0                             12699.0   \n",
       "\n",
       "  Bid provides supplemental public safety services  \\\n",
       "0                                              Yes   \n",
       "\n",
       "   Hours logged by public safety officers  \\\n",
       "0                                  9875.0   \n",
       "\n",
       "   Interactions with public safety officers  \\\n",
       "0                                    1438.0   \n",
       "\n",
       "  Bid provides supplemental streetscape and beautification services  \\\n",
       "0                                                Yes                  \n",
       "\n",
       "  Bid has holiday lighting program  \\\n",
       "0                              Yes   \n",
       "\n",
       "                         Communication channels used Special event charges  \\\n",
       "0  Print advertising (i.e. local newspaper); Digi...               $32,700   \n",
       "\n",
       "  Miscellaneous charges  Sanitation expenses  Public safety expenses  \\\n",
       "0                    $-             305846.0                212483.0   \n",
       "\n",
       "  Marketing, holiday lighting, and special event expenses  \\\n",
       "0                                           $130,351        \n",
       "\n",
       "   Streetscape & beautification expenses  Salaries  \\\n",
       "0                                    NaN  303350.0   \n",
       "\n",
       "   Outside contractor expenses  Insurance costs  Rent and utilities  \\\n",
       "0                      22813.0          27852.0            134002.0   \n",
       "\n",
       "   Supplies and equipment costs  Other G&A expenses  Total Quotation  \\\n",
       "0                           NaN             58140.0          1064486   \n",
       "\n",
       "   Total_Staff                                  Services_Provided  \\\n",
       "0         20.0  Street Sweeping and Bagging; Snow and Ice Remo...   \n",
       "\n",
       "   Number_Of_Sanitation_Activities Beautification_Activities  Media_Reach  \n",
       "0                          88645.0                       246       285506  "
      ]
     },
     "execution_count": 110,
     "metadata": {},
     "output_type": "execute_result"
    }
   ],
   "source": [
    "df.head(1)"
   ]
  },
  {
   "cell_type": "code",
   "execution_count": 111,
   "metadata": {},
   "outputs": [],
   "source": [
    "df.drop(['Special event charges',\n",
    "         'Miscellaneous charges',\n",
    "         'Sanitation expenses',\n",
    "         'Public safety expenses',\n",
    "         'Marketing, holiday lighting, and special event expenses',\n",
    "         'Streetscape & beautification expenses',\n",
    "         'Salaries',\n",
    "         'Outside contractor expenses',\n",
    "         'Insurance costs',\n",
    "         'Rent and utilities',\n",
    "         'Supplies and equipment costs',\n",
    "        'Other G&A expenses'],axis=1,inplace=True)\n",
    "\n",
    "\n",
    "#Removing unnecessary event charges by the company"
   ]
  },
  {
   "cell_type": "code",
   "execution_count": 112,
   "metadata": {},
   "outputs": [
    {
     "data": {
      "text/plain": [
       "(75, 18)"
      ]
     },
     "execution_count": 112,
     "metadata": {},
     "output_type": "execute_result"
    }
   ],
   "source": [
    "df.shape"
   ]
  },
  {
   "cell_type": "markdown",
   "metadata": {},
   "source": [
    "# Corellation and modeling"
   ]
  },
  {
   "cell_type": "code",
   "execution_count": 113,
   "metadata": {},
   "outputs": [
    {
     "data": {
      "text/html": [
       "<div>\n",
       "<style scoped>\n",
       "    .dataframe tbody tr th:only-of-type {\n",
       "        vertical-align: middle;\n",
       "    }\n",
       "\n",
       "    .dataframe tbody tr th {\n",
       "        vertical-align: top;\n",
       "    }\n",
       "\n",
       "    .dataframe thead th {\n",
       "        text-align: right;\n",
       "    }\n",
       "</style>\n",
       "<table border=\"1\" class=\"dataframe\">\n",
       "  <thead>\n",
       "    <tr style=\"text-align: right;\">\n",
       "      <th></th>\n",
       "      <th>company</th>\n",
       "      <th>Floor Size (square feet)</th>\n",
       "      <th>Current clients</th>\n",
       "      <th>Bid provides supplemental sanitation services</th>\n",
       "      <th>Days per week of sanitation services</th>\n",
       "      <th>Hours logged by sanitation workers</th>\n",
       "      <th>Bid provides supplemental public safety services</th>\n",
       "      <th>Hours logged by public safety officers</th>\n",
       "      <th>Interactions with public safety officers</th>\n",
       "      <th>Bid provides supplemental streetscape and beautification services</th>\n",
       "      <th>Bid has holiday lighting program</th>\n",
       "      <th>Communication channels used</th>\n",
       "      <th>Total Quotation</th>\n",
       "      <th>Total_Staff</th>\n",
       "      <th>Services_Provided</th>\n",
       "      <th>Number_Of_Sanitation_Activities</th>\n",
       "      <th>Beautification_Activities</th>\n",
       "      <th>Media_Reach</th>\n",
       "    </tr>\n",
       "  </thead>\n",
       "  <tbody>\n",
       "    <tr>\n",
       "      <th>0</th>\n",
       "      <td>Kreiger and Sons</td>\n",
       "      <td>10270</td>\n",
       "      <td>220</td>\n",
       "      <td>Yes</td>\n",
       "      <td>6.0</td>\n",
       "      <td>12699.0</td>\n",
       "      <td>Yes</td>\n",
       "      <td>9875.000000</td>\n",
       "      <td>1438.0</td>\n",
       "      <td>Yes</td>\n",
       "      <td>Yes</td>\n",
       "      <td>Print advertising (i.e. local newspaper); Digi...</td>\n",
       "      <td>1064486</td>\n",
       "      <td>20.0</td>\n",
       "      <td>Street Sweeping and Bagging; Snow and Ice Remo...</td>\n",
       "      <td>88645.0</td>\n",
       "      <td>246</td>\n",
       "      <td>285506</td>\n",
       "    </tr>\n",
       "    <tr>\n",
       "      <th>1</th>\n",
       "      <td>Ziemann and Sons</td>\n",
       "      <td>5220</td>\n",
       "      <td>145</td>\n",
       "      <td>Yes</td>\n",
       "      <td>7.0</td>\n",
       "      <td>4488.0</td>\n",
       "      <td>No</td>\n",
       "      <td>17372.572368</td>\n",
       "      <td>NaN</td>\n",
       "      <td>Yes</td>\n",
       "      <td>Yes</td>\n",
       "      <td>Direct mailings; Flyers; Email bulletins; Soci...</td>\n",
       "      <td>300212</td>\n",
       "      <td>9.0</td>\n",
       "      <td>NaN</td>\n",
       "      <td>42963.0</td>\n",
       "      <td>63</td>\n",
       "      <td>982500</td>\n",
       "    </tr>\n",
       "  </tbody>\n",
       "</table>\n",
       "</div>"
      ],
      "text/plain": [
       "            company  Floor Size (square feet) Current clients  \\\n",
       "0  Kreiger and Sons                     10270             220   \n",
       "1  Ziemann and Sons                      5220             145   \n",
       "\n",
       "  Bid provides supplemental sanitation services  \\\n",
       "0                                           Yes   \n",
       "1                                           Yes   \n",
       "\n",
       "   Days per week of sanitation services  Hours logged by sanitation workers  \\\n",
       "0                                   6.0                             12699.0   \n",
       "1                                   7.0                              4488.0   \n",
       "\n",
       "  Bid provides supplemental public safety services  \\\n",
       "0                                              Yes   \n",
       "1                                               No   \n",
       "\n",
       "   Hours logged by public safety officers  \\\n",
       "0                             9875.000000   \n",
       "1                            17372.572368   \n",
       "\n",
       "   Interactions with public safety officers  \\\n",
       "0                                    1438.0   \n",
       "1                                       NaN   \n",
       "\n",
       "  Bid provides supplemental streetscape and beautification services  \\\n",
       "0                                                Yes                  \n",
       "1                                                Yes                  \n",
       "\n",
       "  Bid has holiday lighting program  \\\n",
       "0                              Yes   \n",
       "1                              Yes   \n",
       "\n",
       "                         Communication channels used  Total Quotation  \\\n",
       "0  Print advertising (i.e. local newspaper); Digi...          1064486   \n",
       "1  Direct mailings; Flyers; Email bulletins; Soci...           300212   \n",
       "\n",
       "   Total_Staff                                  Services_Provided  \\\n",
       "0         20.0  Street Sweeping and Bagging; Snow and Ice Remo...   \n",
       "1          9.0                                                NaN   \n",
       "\n",
       "   Number_Of_Sanitation_Activities Beautification_Activities  Media_Reach  \n",
       "0                          88645.0                       246       285506  \n",
       "1                          42963.0                        63       982500  "
      ]
     },
     "execution_count": 113,
     "metadata": {},
     "output_type": "execute_result"
    }
   ],
   "source": [
    "df.head(2)"
   ]
  },
  {
   "cell_type": "markdown",
   "metadata": {},
   "source": [
    "corr() function \n",
    "to find the correlation between two columns\n"
   ]
  },
  {
   "cell_type": "code",
   "execution_count": 114,
   "metadata": {},
   "outputs": [
    {
     "data": {
      "text/plain": [
       "0.9583520296537363"
      ]
     },
     "execution_count": 114,
     "metadata": {},
     "output_type": "execute_result"
    }
   ],
   "source": [
    "df['Total_Staff'].corr(df['Total Quotation'])\n",
    "\n",
    "#Corellation between Total_Staff  and Total Quotation by company"
   ]
  },
  {
   "cell_type": "markdown",
   "metadata": {},
   "source": [
    "Heatmap showing the corellation of attributes using seaborn library\n"
   ]
  },
  {
   "cell_type": "code",
   "execution_count": 115,
   "metadata": {},
   "outputs": [
    {
     "data": {
      "text/plain": [
       "<matplotlib.axes._subplots.AxesSubplot at 0x21456bc3320>"
      ]
     },
     "execution_count": 115,
     "metadata": {},
     "output_type": "execute_result"
    },
    {
     "data": {
      "image/png": "[encoded data removed]",
      "text/plain": [
       "<Figure size 432x288 with 2 Axes>"
      ]
     },
     "metadata": {
      "needs_background": "light"
     },
     "output_type": "display_data"
    }
   ],
   "source": [
    "a = df.corr()\n",
    "sns.heatmap(a)"
   ]
  },
  {
   "cell_type": "code",
   "execution_count": 116,
   "metadata": {},
   "outputs": [
    {
     "data": {
      "text/plain": [
       "<matplotlib.axes._subplots.AxesSubplot at 0x21457c24a20>"
      ]
     },
     "execution_count": 116,
     "metadata": {},
     "output_type": "execute_result"
    },
    {
     "data": {
      "image/png": "[encoded data removed]",
      "text/plain": [
       "<Figure size 432x288 with 1 Axes>"
      ]
     },
     "metadata": {
      "needs_background": "light"
     },
     "output_type": "display_data"
    }
   ],
   "source": [
    "#b= df['Total_Staff'].corr(df['Total Quotation'])\n",
    "sns.scatterplot(x=df['Total_Staff'], y=df['Total Quotation'])"
   ]
  },
  {
   "cell_type": "code",
   "execution_count": 117,
   "metadata": {},
   "outputs": [
    {
     "name": "stderr",
     "output_type": "stream",
     "text": [
      "C:\\Users\\HP\\Anaconda3\\lib\\site-packages\\scipy\\stats\\stats.py:1713: FutureWarning: Using a non-tuple sequence for multidimensional indexing is deprecated; use `arr[tuple(seq)]` instead of `arr[seq]`. In the future this will be interpreted as an array index, `arr[np.array(seq)]`, which will result either in an error or a different result.\n",
      "  return np.add.reduce(sorted[indexer] * weights, axis=axis) / sumval\n"
     ]
    },
    {
     "data": {
      "text/plain": [
       "<seaborn.axisgrid.JointGrid at 0x21456067128>"
      ]
     },
     "execution_count": 117,
     "metadata": {},
     "output_type": "execute_result"
    },
    {
     "data": {
      "image/png": "[encoded data removed]",
      "text/plain": [
       "<Figure size 432x432 with 3 Axes>"
      ]
     },
     "metadata": {
      "needs_background": "light"
     },
     "output_type": "display_data"
    }
   ],
   "source": [
    "sns.jointplot(x=df[\"Number_Of_Sanitation_Activities\"], y=df[\"Total_Staff\"], kind=\"hex\", color=\"#4CB391\")"
   ]
  },
  {
   "cell_type": "markdown",
   "metadata": {},
   "source": [
    "Loosely related attributes"
   ]
  },
  {
   "cell_type": "code",
   "execution_count": 118,
   "metadata": {},
   "outputs": [
    {
     "data": {
      "text/plain": [
       "<matplotlib.axes._subplots.AxesSubplot at 0x21457d4c048>"
      ]
     },
     "execution_count": 118,
     "metadata": {},
     "output_type": "execute_result"
    },
    {
     "data": {
      "image/png": "[encoded data removed]",
      "text/plain": [
       "<Figure size 432x288 with 1 Axes>"
      ]
     },
     "metadata": {
      "needs_background": "light"
     },
     "output_type": "display_data"
    }
   ],
   "source": [
    "sns.scatterplot(x=df['Hours logged by sanitation workers'], y=df['Hours logged by public safety officers'])"
   ]
  },
  {
   "cell_type": "markdown",
   "metadata": {},
   "source": [
    "Linear Regression<br>\n",
    "Applied method of linear regression on the present dataset"
   ]
  },
  {
   "cell_type": "code",
   "execution_count": 119,
   "metadata": {},
   "outputs": [
    {
     "data": {
      "text/plain": [
       "[<matplotlib.lines.Line2D at 0x21457dc03c8>]"
      ]
     },
     "execution_count": 119,
     "metadata": {},
     "output_type": "execute_result"
    },
    {
     "data": {
      "image/png": "[encoded data removed]",
      "text/plain": [
       "<Figure size 432x288 with 1 Axes>"
      ]
     },
     "metadata": {
      "needs_background": "light"
     },
     "output_type": "display_data"
    }
   ],
   "source": [
    "from sklearn.linear_model import LinearRegression\n",
    "X = df['Total_Staff'].values.reshape(-1, 1)\n",
    "Y = df['Total Quotation'].values.reshape(-1, 1)\n",
    "reg = LinearRegression().fit(X, Y)\n",
    "reg.score(X, Y)\n",
    "reg.coef_\n",
    "reg.intercept_\n",
    "#reg.predict(X,Y)\n",
    "Y_pred = reg.predict(X)\n",
    "plt.scatter(X, Y)\n",
    "plt.plot(X,Y_pred, color='red')\n"
   ]
  },
  {
   "cell_type": "code",
   "execution_count": 120,
   "metadata": {},
   "outputs": [
    {
     "data": {
      "text/plain": [
       "Index(['company', 'Floor Size (square feet)', 'Current clients',\n",
       "       'Bid provides supplemental sanitation services',\n",
       "       'Days per week of sanitation services',\n",
       "       'Hours logged by sanitation workers',\n",
       "       'Bid provides supplemental public safety services',\n",
       "       'Hours logged by public safety officers',\n",
       "       'Interactions with public safety officers',\n",
       "       'Bid provides supplemental streetscape and beautification services',\n",
       "       'Bid has holiday lighting program', 'Communication channels used',\n",
       "       'Total Quotation', 'Total_Staff', 'Services_Provided',\n",
       "       'Number_Of_Sanitation_Activities', 'Beautification_Activities',\n",
       "       'Media_Reach'],\n",
       "      dtype='object')"
      ]
     },
     "execution_count": 120,
     "metadata": {},
     "output_type": "execute_result"
    }
   ],
   "source": [
    "df.columns\n"
   ]
  },
  {
   "cell_type": "code",
   "execution_count": 121,
   "metadata": {},
   "outputs": [
    {
     "data": {
      "text/plain": [
       "company                                                               object\n",
       "Floor Size (square feet)                                               int64\n",
       "Current clients                                                       object\n",
       "Bid provides supplemental sanitation services                         object\n",
       "Days per week of sanitation services                                 float64\n",
       "Hours logged by sanitation workers                                   float64\n",
       "Bid provides supplemental public safety services                      object\n",
       "Hours logged by public safety officers                               float64\n",
       "Interactions with public safety officers                             float64\n",
       "Bid provides supplemental streetscape and beautification services     object\n",
       "Bid has holiday lighting program                                      object\n",
       "Communication channels used                                           object\n",
       "Total Quotation                                                        int64\n",
       "Total_Staff                                                          float64\n",
       "Services_Provided                                                     object\n",
       "Number_Of_Sanitation_Activities                                      float64\n",
       "Beautification_Activities                                             object\n",
       "Media_Reach                                                            int64\n",
       "dtype: object"
      ]
     },
     "execution_count": 121,
     "metadata": {},
     "output_type": "execute_result"
    }
   ],
   "source": [
    "df.dtypes"
   ]
  },
  {
   "cell_type": "code",
   "execution_count": null,
   "metadata": {},
   "outputs": [],
   "source": []
  }
 ],
 "metadata": {
  "kernelspec": {
   "display_name": "Python 3",
   "language": "python",
   "name": "python3"
  },
  "language_info": {
   "codemirror_mode": {
    "name": "ipython",
    "version": 3
   },
   "file_extension": ".py",
   "mimetype": "text/x-python",
   "name": "python",
   "nbconvert_exporter": "python",
   "pygments_lexer": "ipython3",
   "version": "3.7.1"
  }
 },
 "nbformat": 4,
 "nbformat_minor": 2
}
